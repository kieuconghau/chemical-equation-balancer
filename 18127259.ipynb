{
 "cells": [
  {
   "cell_type": "markdown",
   "metadata": {},
   "source": [
    "<table align=\"left\">\n",
    "  <tr>\n",
    "    <th colspan=2>Thông tin cá nhân</th>\n",
    "  </tr>\n",
    "  <tr>\n",
    "    <td>Họ tên</td>\n",
    "    <td>Kiều Công Hậu</td>\n",
    "  </tr>\n",
    "  <tr>\n",
    "    <td>MSSV</td>\n",
    "    <td><strong>18127259</strong></td>\n",
    "  </tr>\n",
    "  <tr>\n",
    "    <td>Lớp</td>\n",
    "    <td>18CLC1</td>\n",
    "  </tr>\n",
    "  <tr>\n",
    "    <td>Môn học</td>\n",
    "    <td>Toán Ứng dụng và Thống kê</td>\n",
    "  </tr>\n",
    "</table>\n",
    "\n",
    "<h1 align=\"center\">CÂN BẰNG PHẢN ỨNG HÓA HỌC</h1>"
   ]
  },
  {
   "cell_type": "code",
   "execution_count": 1,
   "metadata": {},
   "outputs": [],
   "source": [
    "from sympy import *\n",
    "from IPython.display import Latex"
   ]
  },
  {
   "cell_type": "code",
   "execution_count": 2,
   "metadata": {},
   "outputs": [],
   "source": [
    "# Trả về chuỗi biểu diễn Latex của công thức hóa học mol\n",
    "def chemical_formula(mol):\n",
    "    formula = r\"\"\n",
    "    for e in mol:\n",
    "        if isinstance(e[0], list):\n",
    "            formula += \"(\" + chemical_formula(e[0]) + \")_\" + str(e[1]) if e[1] != 1 else chemical_formula(e[0])\n",
    "        else:\n",
    "            formula += r\"\\text{\" + e[0] + \"}\" + (\"_\" + str(e[1]) if e[1] != 1 else \"\")\n",
    "    return formula"
   ]
  },
  {
   "cell_type": "code",
   "execution_count": 3,
   "metadata": {},
   "outputs": [],
   "source": [
    "# Trả về tập hợp các nguyên tố phân biệt có trong 1 chất (mol)\n",
    "def distinct_elements(mol):\n",
    "    element_set = set()\n",
    "    for e in mol:\n",
    "        if isinstance(e[0], list):\n",
    "            element_set.update(distinct_elements(e[0]))\n",
    "        elif isinstance(e[0], str):\n",
    "            element_set.add(e[0])\n",
    "    return element_set"
   ]
  },
  {
   "cell_type": "code",
   "execution_count": 4,
   "metadata": {},
   "outputs": [],
   "source": [
    "# Trả về số lượng nguyên tố (element) có trong một chất (mol)\n",
    "def count(mol, element):\n",
    "    for e in mol:\n",
    "        if isinstance(e[0], list):\n",
    "            return count(e[0], element) * e[1]\n",
    "        elif isinstance(e[0], str) and e[0] == element:\n",
    "            return e[1]\n",
    "    return 0\n",
    "\n",
    "# Trả về một ma trận A với kích thước mxn được thiết lập dựa vào danh sách các chất có trong PTHH (lhs và rhs)\n",
    "def init_matrix(lhs, rhs):\n",
    "    element_set = set()\n",
    "    [element_set.update(distinct_elements(mol)) for mol in lhs]\n",
    "    \n",
    "    m, n = len(element_set), len(lhs) + len(rhs)\n",
    "    matrix = [[0 for _ in range(n)] for _ in range(m)]\n",
    "    \n",
    "    for (element, mi) in zip(element_set, range(m)):\n",
    "        for ni in range(len(lhs)):\n",
    "            matrix[mi][ni] += count(lhs[ni], element)\n",
    "        for ni in range(len(rhs)):\n",
    "            matrix[mi][len(lhs) + ni] -= count(rhs[ni], element)\n",
    "        \n",
    "    return matrix"
   ]
  },
  {
   "cell_type": "code",
   "execution_count": 5,
   "metadata": {},
   "outputs": [],
   "source": [
    "# Trả về danh sách các hệ số sau khi giải hệ PTTT được biểu diễn bằng ma trận matrix\n",
    "def solve(matrix):\n",
    "    n = len(matrix[0])\n",
    "    coefficient_list = [1 for _ in range(n)]\n",
    "\n",
    "    if Matrix(matrix).rank() != n - 1:\n",
    "        temp = list(linsolve((Matrix(matrix), Matrix([0 for _ in range(len(matrix))])), [symbols(f\"x{i + 1}\") for i in range(n)]))\n",
    "        coefficient_list = [temp[0][i] for i in range(n)]\n",
    "    else:\n",
    "        matrix = Matrix(matrix).rref()[0]\n",
    "        for i in range(n - 1):\n",
    "            coefficient_list[i] = -matrix[n*(i + 1) - 1]\n",
    "    \n",
    "    common_denominator = lcm([fraction(coefficient)[1] for coefficient in coefficient_list])\n",
    "    for i in range(n):\n",
    "        coefficient_list[i] *= common_denominator\n",
    "    \n",
    "    return coefficient_list"
   ]
  },
  {
   "cell_type": "code",
   "execution_count": 6,
   "metadata": {},
   "outputs": [],
   "source": [
    "# Trả về chuỗi biểu diễn Latex của một chất (mol) kèm theo hệ số (coefficient) tương ứng\n",
    "def equation_component(coefficient, mol, symbol=\"\"):\n",
    "    return (str(coefficient) if coefficient != 1 else \"\") + chemical_formula(mol) + symbol\n",
    "\n",
    "# Trả về chuỗi biểu diễn Latex của PTHH đã được cân bằng\n",
    "# dựa vào danh sách các chất trong PTHH và danh sách các hệ số tương ứng\n",
    "def build_equation(coefficient_list, lhs, rhs):\n",
    "    equation = r\"\"\n",
    "    \n",
    "    for i in range(len(lhs) - 1):\n",
    "        equation += equation_component(coefficient_list[i], lhs[i], \" + \")\n",
    "    equation += equation_component(coefficient_list[len(lhs) - 1], lhs[-1], r\" \\to \")\n",
    "    \n",
    "    for i in range(len(rhs) - 1):\n",
    "        equation += equation_component(coefficient_list[len(lhs) + i], rhs[i], \" + \")\n",
    "    equation += equation_component(coefficient_list[-1], rhs[-1])\n",
    "    \n",
    "    return equation"
   ]
  },
  {
   "cell_type": "code",
   "execution_count": 7,
   "metadata": {},
   "outputs": [],
   "source": [
    "# Trả về chuỗi biểu diễn Latex của PTHH đã được cân bằng\n",
    "# dựa vào danh sách các chất trong PTHH\n",
    "def balance_chemical_equation(lhs, rhs):\n",
    "    matrix = init_matrix(lhs, rhs)\n",
    "    coefficient_list = solve(matrix)\n",
    "    return build_equation(coefficient_list, lhs, rhs)"
   ]
  },
  {
   "cell_type": "code",
   "execution_count": 8,
   "metadata": {},
   "outputs": [
    {
     "data": {
      "text/latex": [
       "$$2\\text{Al}(\\text{O}\\text{H})_3 + 3\\text{H}_2\\text{S}\\text{O}_4 \\to \\text{Al}_2(\\text{S}\\text{O}_4)_3 + 6\\text{H}_2\\text{O}$$"
      ],
      "text/plain": [
       "<IPython.core.display.Latex object>"
      ]
     },
     "execution_count": 8,
     "metadata": {},
     "output_type": "execute_result"
    }
   ],
   "source": [
    "Al_OH3 = [(\"Al\", 1), ([(\"O\", 1), (\"H\", 1)], 3)]\n",
    "H2_SO4 = [(\"H\", 2), ([(\"S\", 1), (\"O\", 4)], 1)]\n",
    "Al2_SO43 = [(\"Al\", 2), ([(\"S\", 1), (\"O\", 4)], 3)]\n",
    "H2O = [(\"H\", 2), (\"O\", 1)]\n",
    "\n",
    "equation = balance_chemical_equation([Al_OH3, H2_SO4], [Al2_SO43, H2O])\n",
    "Latex(\"$$\" + equation + \"$$\")"
   ]
  },
  {
   "cell_type": "code",
   "execution_count": 9,
   "metadata": {},
   "outputs": [
    {
     "data": {
      "text/latex": [
       "$$2\\text{H}_2\\text{O} \\to 2\\text{H}_2 + \\text{O}_2$$"
      ],
      "text/plain": [
       "<IPython.core.display.Latex object>"
      ]
     },
     "execution_count": 9,
     "metadata": {},
     "output_type": "execute_result"
    }
   ],
   "source": [
    "H2O = [(\"H\", 2), (\"O\", 1)]\n",
    "H2 = [(\"H\", 2)]\n",
    "O2 = [(\"O\", 2)]\n",
    "\n",
    "equation = balance_chemical_equation([H2O], [H2, O2])\n",
    "Latex(\"$$\" + equation + \"$$\")"
   ]
  },
  {
   "cell_type": "code",
   "execution_count": 10,
   "metadata": {},
   "outputs": [
    {
     "data": {
      "text/latex": [
       "$$8\\text{Al} + 30\\text{H}\\text{N}\\text{O}_3 \\to 8\\text{Al}(\\text{N}\\text{O}_3)_3 + 3\\text{N}_2\\text{O} + 15\\text{H}_2\\text{O}$$"
      ],
      "text/plain": [
       "<IPython.core.display.Latex object>"
      ]
     },
     "execution_count": 10,
     "metadata": {},
     "output_type": "execute_result"
    }
   ],
   "source": [
    "Al = [(\"Al\", 1)]\n",
    "HNO3 = [(\"H\", 1), (\"N\", 1), (\"O\", 3)]\n",
    "AlNO33 = [(\"Al\", 1), ([(\"N\", 1), (\"O\", 3)], 3)]\n",
    "N2O = [(\"N\", 2), (\"O\", 1)]\n",
    "H2O = [(\"H\", 2), (\"O\", 1)]\n",
    "\n",
    "equation = balance_chemical_equation([Al, HNO3], [AlNO33, N2O, H2O])\n",
    "Latex(\"$$\" + equation + \"$$\")"
   ]
  }
 ],
 "metadata": {
  "kernelspec": {
   "display_name": "Python 3",
   "language": "python",
   "name": "python3"
  },
  "language_info": {
   "codemirror_mode": {
    "name": "ipython",
    "version": 3
   },
   "file_extension": ".py",
   "mimetype": "text/x-python",
   "name": "python",
   "nbconvert_exporter": "python",
   "pygments_lexer": "ipython3",
   "version": "3.7.6"
  }
 },
 "nbformat": 4,
 "nbformat_minor": 4
}
